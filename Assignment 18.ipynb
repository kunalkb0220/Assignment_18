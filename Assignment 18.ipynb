{
 "cells": [
  {
   "cell_type": "code",
   "execution_count": null,
   "id": "6434a73f",
   "metadata": {},
   "outputs": [],
   "source": [
    "Create a zoo.py file first. Define the hours() function, which prints the \n",
    "string 'Open 9-5 daily'. Then, use the interactive interpreter to import\n",
    "the zoo module and call its hours() function.\n",
    "\n",
    "from google.colab import files\n",
    "uploaded = files.upload()\n",
    "\n",
    "import zoo\n",
    "from importlib import reload\n",
    "reload(zoo)\n",
    "\n",
    "zoo.hours()\n"
   ]
  },
  {
   "cell_type": "code",
   "execution_count": null,
   "id": "4bc57928",
   "metadata": {},
   "outputs": [],
   "source": [
    "In the interactive interpreter, import the zoo module as menagerie and call\n",
    "its hours() function.\n",
    "\n",
    "import zoo as menagerie\n",
    "menagerie.hours()\n"
   ]
  },
  {
   "cell_type": "code",
   "execution_count": null,
   "id": "e8fedaef",
   "metadata": {},
   "outputs": [],
   "source": [
    "Using the interpreter, explicitly import and call the hours() function from \n",
    "zoo.\n",
    "\n",
    "from zoo import hours\n",
    "hours()\n"
   ]
  },
  {
   "cell_type": "code",
   "execution_count": null,
   "id": "77f5d4a2",
   "metadata": {},
   "outputs": [],
   "source": [
    "Import the hours() function as info and call it.\n",
    "\n",
    "from zoo import hours as info\n",
    "info()\n"
   ]
  },
  {
   "cell_type": "code",
   "execution_count": null,
   "id": "4b38a4d9",
   "metadata": {},
   "outputs": [],
   "source": [
    "Create a plain dictionary with the key-value pairs 'a': 1, 'b': 2, and 'c': 3\n",
    "and print it out.\n",
    "                \n",
    "plain = {'a': 1, 'b': 2, 'c': 3}\n",
    "plain\n",
    "                     "
   ]
  },
  {
   "cell_type": "code",
   "execution_count": null,
   "id": "05fd7498",
   "metadata": {},
   "outputs": [],
   "source": [
    "Make an OrderedDict called fancy from the same \n",
    "pairs listed in 5 and print it. Did it print in the same order as plain?\n",
    "\n",
    "from collections import OrderedDict\n",
    "fancy = OrderedDict([('a', 1), ('b', 2), ('c', 3)])\n",
    "fancy\n"
   ]
  },
  {
   "cell_type": "code",
   "execution_count": null,
   "id": "dbb7b9a0",
   "metadata": {},
   "outputs": [],
   "source": [
    "Make a default dictionary called dict_of_lists and pass it the argument list \n",
    "Make the list dict_of_lists['a'] and append \n",
    "the value 'something for a' to it in one assignment. Print dict_of_lists['a']\n",
    "\n",
    "from collections import defaultdict\n",
    "dict_of_lists = defaultdict(list)\n",
    "dict_of_lists['a'].append('something for a')\n",
    "dict_of_lists['a']\n"
   ]
  }
 ],
 "metadata": {
  "kernelspec": {
   "display_name": "Python 3",
   "language": "python",
   "name": "python3"
  },
  "language_info": {
   "codemirror_mode": {
    "name": "ipython",
    "version": 3
   },
   "file_extension": ".py",
   "mimetype": "text/x-python",
   "name": "python",
   "nbconvert_exporter": "python",
   "pygments_lexer": "ipython3",
   "version": "3.8.8"
  }
 },
 "nbformat": 4,
 "nbformat_minor": 5
}
